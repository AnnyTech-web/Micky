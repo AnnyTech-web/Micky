{
  "nbformat": 4,
  "nbformat_minor": 0,
  "metadata": {
    "colab": {
      "provenance": [],
      "authorship_tag": "ABX9TyNrreNVMeO4Rdkly5f587pn",
      "include_colab_link": true
    },
    "kernelspec": {
      "name": "python3",
      "display_name": "Python 3"
    },
    "language_info": {
      "name": "python"
    }
  },
  "cells": [
    {
      "cell_type": "markdown",
      "metadata": {
        "id": "view-in-github",
        "colab_type": "text"
      },
      "source": [
        "<a href=\"https://colab.research.google.com/github/AnnyTech-web/Micky/blob/main/Untitled2.ipynb\" target=\"_parent\"><img src=\"https://colab.research.google.com/assets/colab-badge.svg\" alt=\"Open In Colab\"/></a>"
      ]
    },
    {
      "cell_type": "code",
      "execution_count": null,
      "metadata": {
        "colab": {
          "base_uri": "https://localhost:8080/"
        },
        "id": "GNtgwSuVOLyv",
        "outputId": "62ed3081-6403-44f0-9cd2-59555a7ae538"
      },
      "outputs": [
        {
          "output_type": "stream",
          "name": "stdout",
          "text": [
            "Enter your name: Ann\n",
            "Enter your age: 23\n",
            "Hello Ann, you are eligible to vote \n"
          ]
        }
      ],
      "source": [
        "def check_voting():\n",
        "    name = input(\"Enter your name: \")\n",
        "    age = int(input(\"Enter your age: \"))\n",
        "\n",
        "    if age >= 18:\n",
        "        print(f\"Hello {name}, you are eligible to vote \")\n",
        "    else:\n",
        "        print(f\"Hello {name}, you are NOT eligible to vote \")\n",
        "\n",
        "\n",
        "check_voting()"
      ]
    },
    {
      "cell_type": "code",
      "source": [
        "\n",
        "def largest_and_product():\n",
        "    # Input 3 numbers\n",
        "    num1 = int(input(\"Enter first number: \"))\n",
        "    num2 = int(input(\"Enter second number: \"))\n",
        "    num3 = int(input(\"Enter third number: \"))\n",
        "\n",
        "    # Check the largest and compute product of the other two\n",
        "    if num1 >= num2 and num1 >= num3:\n",
        "        product = num2 * num3\n",
        "        print(f\"The largest number is {num1}. Product of {num2} and {num3} = {product}\")\n",
        "    elif num2 >= num1 and num2 >= num3:\n",
        "        product = num1 * num3\n",
        "        print(f\"The largest number is {num2}. Product of {num1} and {num3} = {product}\")\n",
        "    else:\n",
        "        product = num1 * num2\n",
        "        print(f\"The largest number is {num3}. Product of {num1} and {num2} = {product}\")\n",
        "\n",
        "# Call the function\n",
        "largest_and_product()\n",
        "\n",
        "\n",
        "\n"
      ],
      "metadata": {
        "colab": {
          "base_uri": "https://localhost:8080/"
        },
        "id": "2_n4P21ZUZgA",
        "outputId": "09ca11e7-b008-423f-e0d3-83b6fb00eff7"
      },
      "execution_count": null,
      "outputs": [
        {
          "output_type": "stream",
          "name": "stdout",
          "text": [
            "Enter first number: 49\n",
            "Enter second number: 67\n",
            "Enter third number: 88\n",
            "The largest number is 88. Product of 49 and 67 = 3283\n"
          ]
        }
      ]
    }
  ]
}