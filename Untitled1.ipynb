{
  "nbformat": 4,
  "nbformat_minor": 0,
  "metadata": {
    "colab": {
      "provenance": [],
      "authorship_tag": "ABX9TyOQaxCqdHe/K0N7IY1D7k0s",
      "include_colab_link": true
    },
    "kernelspec": {
      "name": "python3",
      "display_name": "Python 3"
    },
    "language_info": {
      "name": "python"
    }
  },
  "cells": [
    {
      "cell_type": "markdown",
      "metadata": {
        "id": "view-in-github",
        "colab_type": "text"
      },
      "source": [
        "<a href=\"https://colab.research.google.com/github/AnnyTech-web/Micky/blob/main/Untitled1.ipynb\" target=\"_parent\"><img src=\"https://colab.research.google.com/assets/colab-badge.svg\" alt=\"Open In Colab\"/></a>"
      ]
    },
    {
      "cell_type": "code",
      "execution_count": null,
      "metadata": {
        "colab": {
          "base_uri": "https://localhost:8080/"
        },
        "id": "3U5m8YIpDc-D",
        "outputId": "e04fdafe-7dd6-45e4-80d7-ba7980ad0dbf"
      },
      "outputs": [
        {
          "output_type": "stream",
          "name": "stdout",
          "text": [
            "hello world!\n"
          ]
        }
      ],
      "source": [
        "#print() functon is usedd to display an output on the screen\n",
        "print('hello world!')"
      ]
    },
    {
      "cell_type": "code",
      "source": [
        "first_number = 567\n",
        "secondnumber = 76\n",
        "div = first_number/secondnumber\n",
        "print(div)"
      ],
      "metadata": {
        "colab": {
          "base_uri": "https://localhost:8080/"
        },
        "id": "8bwuIz8mJhN2",
        "outputId": "8ea1ff7e-b071-45b5-8faf-1aa04aff3c4a"
      },
      "execution_count": null,
      "outputs": [
        {
          "output_type": "stream",
          "name": "stdout",
          "text": [
            "7.4605263157894735\n"
          ]
        }
      ]
    },
    {
      "cell_type": "code",
      "source": [
        "#prompting the user two numbers and subtracting them\n",
        "fno = int(input(\"Enter the first number:\"))\n",
        "sno = int(input(\"Enter the second number:\"))\n",
        "subtract = fno - sno\n",
        "print(\"The difference between the two numbers is: \",subtract)"
      ],
      "metadata": {
        "colab": {
          "base_uri": "https://localhost:8080/"
        },
        "id": "qbzUIjJRKy-T",
        "outputId": "9dc49334-870d-4cdc-a50d-a2545fee823d"
      },
      "execution_count": null,
      "outputs": [
        {
          "output_type": "stream",
          "name": "stdout",
          "text": [
            "Enter the first number:768\n",
            "Enter the second number:98\n",
            "The difference between the two numbers is:  670\n"
          ]
        }
      ]
    }
  ]
}